{
  "nbformat": 4,
  "nbformat_minor": 0,
  "metadata": {
    "colab": {
      "provenance": [],
      "authorship_tag": "ABX9TyPkpJbVwPRlujLaP0gQKDWp",
      "include_colab_link": true
    },
    "kernelspec": {
      "name": "python3",
      "display_name": "Python 3"
    },
    "language_info": {
      "name": "python"
    }
  },
  "cells": [
    {
      "cell_type": "markdown",
      "metadata": {
        "id": "view-in-github",
        "colab_type": "text"
      },
      "source": [
        "<a href=\"https://colab.research.google.com/github/patytaha123/Banco-java/blob/main/Untitled2.ipynb\" target=\"_parent\"><img src=\"https://colab.research.google.com/assets/colab-badge.svg\" alt=\"Open In Colab\"/></a>"
      ]
    },
    {
      "cell_type": "code",
      "source": [
        "lista_musicos=['Djava','Roberto Carlos','Elis Regina','Toma Jobim','Miltom Nascimento','Chico Buarque','Nara Leão', 'Ptty','Simonal','Moacir Santos','Caetano Veloso','Elza Soares','Paulinho da Viola','Yamandu Costa','Gal Costa']\n",
        "\n",
        "print(\"Quantidades de elementos da lista:\",len(lista_musicos))\n",
        "\n",
        "print(\"Dados no indice 2:\",lista_musicos[2])\n",
        "\n",
        "print(\"Dados no indice 9:\",lista_musicos[9])\n",
        "print(\"Dados no indice 14:\", lista_musicos[14])"
      ],
      "metadata": {
        "colab": {
          "base_uri": "https://localhost:8080/"
        },
        "id": "Zgiq9ufx7oMw",
        "outputId": "dca5d249-61f0-4b4c-cdd7-327044529272"
      },
      "execution_count": 2,
      "outputs": [
        {
          "output_type": "stream",
          "name": "stdout",
          "text": [
            "Quantidades de elementos da lista: 15\n",
            "Dados no indice 2: Elis Regina\n",
            "Dados no indice 9: Moacir Santos\n",
            "Dados no indice 14: Gal Costa\n"
          ]
        }
      ]
    },
    {
      "cell_type": "code",
      "source": [],
      "metadata": {
        "id": "QWZSej4jBFSy"
      },
      "execution_count": null,
      "outputs": []
    },
    {
      "cell_type": "code",
      "source": [],
      "metadata": {
        "id": "7bLfldeNBFU3"
      },
      "execution_count": null,
      "outputs": []
    },
    {
      "cell_type": "code",
      "source": [],
      "metadata": {
        "id": "kcaDJ3Cr7gV3"
      },
      "execution_count": null,
      "outputs": []
    }
  ]
}